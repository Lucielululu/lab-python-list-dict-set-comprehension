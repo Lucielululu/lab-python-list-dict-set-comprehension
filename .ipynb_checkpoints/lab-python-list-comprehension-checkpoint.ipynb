{
 "cells": [
  {
   "cell_type": "markdown",
   "id": "25d7736c-ba17-4aff-b6bb-66eba20fbf4e",
   "metadata": {},
   "source": [
    "# Lab | List, Dict and Set Comprehension"
   ]
  },
  {
   "cell_type": "markdown",
   "id": "7dd3cbde-675a-4b81-92c3-f728846dbe06",
   "metadata": {},
   "source": [
    "## Exercise: Managing Customer Orders Optimized with Comprehension"
   ]
  },
  {
   "cell_type": "markdown",
   "id": "5d500160-2fb7-4777-b5e4-09d45ebaf328",
   "metadata": {},
   "source": [
    "In the previous exercise, you developed a program to manage customer orders and inventory. Now, let's take it a step further and incorporate comprehension into your code.\n",
    "\n",
    "Follow the steps below to complete the exercise:\n",
    "\n",
    "1. Review your code from the previous exercise and identify areas where you can apply comprehension to simplify and streamline your code. \n",
    "\n",
    "    - *Hint: Apply it to initialize inventory, updating the inventory and printing the updated inventory.*\n",
    "    \n",
    "    - For example, in initializing the inventory, we could have:\n",
    "    \n",
    "        ```python\n",
    "        def initialize_inventory(products):\n",
    "            inventory = {product: int(input(f\"Enter the quantity of {product}s available: \")) for product in products}\n",
    "            return inventory\n",
    "\n",
    "        ```\n",
    "<br>\n",
    "    \n",
    "    \n",
    "2. Modify the function get_customer_orders so it prompts the user to enter the number of customer orders and gathers the product names using a loop and user input. Use comprehension.\n",
    "\n",
    "3. Add a new function to calculate the total price of the customer order. For each product in customer_orders, prompt the user to enter the price of that product. Use comprehension to calculate the total price. Note: assume that the user can only have 1 unit of each product.\n",
    "\n",
    "4. Modify the update_inventory function to remove the product from the inventory if its quantity becomes zero after fulfilling the customer orders. Use comprehension to filter out the products with a quantity of zero from the inventory.\n",
    "\n",
    "5. Print the total price of the customer order.\n",
    "\n",
    "Your code should produce output similar to the following:\n",
    "\n",
    "```python\n",
    "Enter the quantity of t-shirts available:  5\n",
    "Enter the quantity of mugs available:  4\n",
    "Enter the quantity of hats available:  3\n",
    "Enter the quantity of books available:  2\n",
    "Enter the quantity of keychains available:  1\n",
    "Enter the number of customer orders:  2\n",
    "Enter the name of a product that a customer wants to order:  hat\n",
    "Enter the name of a product that a customer wants to order:  keychain\n",
    "\n",
    "Order Statistics:\n",
    "Total Products Ordered: 2\n",
    "Percentage of Unique Products Ordered: 40.0\n",
    "\n",
    "Updated Inventory:\n",
    "t-shirt: 5\n",
    "mug: 4\n",
    "hat: 2\n",
    "book: 2\n",
    "Enter the price of keychain:  5\n",
    "Enter the price of hat:  10\n",
    "Total Price: 15.0\n",
    "\n",
    "```\n"
   ]
  },
  {
   "cell_type": "code",
   "execution_count": 2,
   "id": "2972c9ff-f9d0-45f3-9e37-9cc6289abed9",
   "metadata": {},
   "outputs": [
    {
     "name": "stdin",
     "output_type": "stream",
     "text": [
      "How many t-shirt do you have?  5\n",
      "How many mug do you have?  10\n",
      "How many hat do you have?  15\n",
      "How many book do you have?  20\n",
      "How many keychain do you have?  25\n"
     ]
    },
    {
     "data": {
      "text/plain": [
       "{'t-shirt': 5, 'mug': 10, 'hat': 15, 'book': 20, 'keychain': 25}"
      ]
     },
     "execution_count": 2,
     "metadata": {},
     "output_type": "execute_result"
    }
   ],
   "source": [
    "# Step 1: Apply comprehension to initialize_inventory(products).\n",
    "products = [\"t-shirt\", \"mug\", \"hat\", \"book\", \"keychain\"]\n",
    "inventory = {}\n",
    "# comprehension:\n",
    "def initialize_inventory(products):\n",
    "    return {product: int(input(f\"How many {product} do you have? \")) for product in products}\n",
    "initialize_inventory (products)"
   ]
  },
  {
   "cell_type": "code",
   "execution_count": 4,
   "id": "8d32f957-f09e-431b-89bf-503d9c60a79f",
   "metadata": {},
   "outputs": [
    {
     "name": "stdin",
     "output_type": "stream",
     "text": [
      "What product do you want to buy hat\n",
      "Do you want to add more products? (yes/no): yes\n",
      "What product do you want to buy book\n",
      "Do you want to add more products? (yes/no): yes\n",
      "What product do you want to buy mug\n",
      "Do you want to add more products? (yes/no): no\n"
     ]
    },
    {
     "name": "stdout",
     "output_type": "stream",
     "text": [
      "Ok thank you!\n"
     ]
    },
    {
     "data": {
      "text/plain": [
       "{'book', 'hat', 'mug'}"
      ]
     },
     "execution_count": 4,
     "metadata": {},
     "output_type": "execute_result"
    }
   ],
   "source": [
    "# Step 2: Apply comprehension to update_inventory(customer_orders,inventory)?\n",
    "\n",
    "customer_orders = set() # still need a global parameter that's an empty set\n",
    "\n",
    "def get_customer_orders(): #the 3 products cutomer wants to buy.\n",
    "\n",
    "    while True:\n",
    "        order = input(\"What product do you want to buy\").strip().lower()\n",
    "        if order in products:\n",
    "            customer_orders.add(order)\n",
    "        else:\n",
    "            print(\"Invalid answer, please enter a product that's available\")\n",
    "            continue\n",
    "        add_product = str(input(\"Do you want to add more products? (yes/no):\").strip().lower())\n",
    "        if add_product == 'yes':\n",
    "            continue\n",
    "        elif add_product == \"no\":\n",
    "            print(\"Ok thank you!\")\n",
    "            break\n",
    "    return customer_orders\n",
    "\n",
    "get_customer_orders()"
   ]
  },
  {
   "cell_type": "code",
   "execution_count": 6,
   "id": "dabda98c-1c8c-469c-b9c0-4cbb2f0d9ffc",
   "metadata": {},
   "outputs": [
    {
     "name": "stdin",
     "output_type": "stream",
     "text": [
      "how much does mug cost? 3\n",
      "how much does book cost? 2\n",
      "how much does hat cost? 4\n"
     ]
    },
    {
     "data": {
      "text/plain": [
       "9"
      ]
     },
     "execution_count": 6,
     "metadata": {},
     "output_type": "execute_result"
    }
   ],
   "source": [
    "# Step 3: \n",
    "# Add a new function to calculate the total price of the customer order. \n",
    "# For each product in customer_orders, prompt the user to enter the price of that product. \n",
    "# Use comprehension to calculate the total price. Note: assume that the user can only have 1 unit of each product.\n",
    "\n",
    "def total_price_customer_order(customer_orders): #在我自己需要写函数的时候经常不知道要代入什么参数。\n",
    "    total_price = 0  # Initialize total price to 0\n",
    "    for product in customer_orders:\n",
    "        price = int(input(\"how much does \" + product + \" cost?\")) # 可以直接在这里定义一个 variable。\n",
    "        total_price += price  # Add the price to the total\n",
    "    return total_price\n",
    "total_price_customer_order(customer_orders)"
   ]
  },
  {
   "cell_type": "code",
   "execution_count": 8,
   "id": "5948425b-7adc-4038-a270-c4105a8f4588",
   "metadata": {},
   "outputs": [
    {
     "data": {
      "text/plain": [
       "{}"
      ]
     },
     "execution_count": 8,
     "metadata": {},
     "output_type": "execute_result"
    }
   ],
   "source": [
    "# Step 4:\n",
    "# Modify the update_inventory function to remove the product from the inventory if its quantity becomes zero after fulfilling the customer orders. \n",
    "# Use comprehension to filter out the products with a quantity of zero from the inventory.\n",
    "\n",
    "def update_inventory(customer_orders,inventory):\n",
    "    updated_inventory = inventory.copy()\n",
    "    for key,value in inventory.items():\n",
    "        if key in customer_orders:\n",
    "            updated_inventory[key] = value - 1 #重新赋值给键值对,Decrease the quantity by 1.\n",
    "            if updated_inventory[key] == 0:\n",
    "                del updated_inventory[key]                \n",
    "    return updated_inventory\n",
    "update_inventory(customer_orders,inventory)"
   ]
  },
  {
   "cell_type": "code",
   "execution_count": 10,
   "id": "49963504-e0c3-4b07-993f-162926ffc9f0",
   "metadata": {},
   "outputs": [
    {
     "data": {
      "text/plain": [
       "{}"
      ]
     },
     "execution_count": 10,
     "metadata": {},
     "output_type": "execute_result"
    }
   ],
   "source": [
    "# Apply comprehension:\n",
    "def update_inventory(customer_orders, inventory):\n",
    "    return {key: (value - 1 if key in customer_orders else value)\n",
    "            for key, value in inventory.items()\n",
    "            if not (key in customer_orders and value - 1 == 0)}\n",
    "update_inventory(customer_orders, inventory)"
   ]
  },
  {
   "cell_type": "code",
   "execution_count": 20,
   "id": "bf171873-49bb-4708-9f96-f3e94d74e4d3",
   "metadata": {},
   "outputs": [
    {
     "ename": "AttributeError",
     "evalue": "'set' object has no attribute 'items'",
     "output_type": "error",
     "traceback": [
      "\u001b[1;31m---------------------------------------------------------------------------\u001b[0m",
      "\u001b[1;31mAttributeError\u001b[0m                            Traceback (most recent call last)",
      "Cell \u001b[1;32mIn[20], line 8\u001b[0m\n\u001b[0;32m      5\u001b[0m \u001b[38;5;250m    \u001b[39m\u001b[38;5;124;03m\"\"\"Calculates total price from a dictionary of {product: price}\"\"\"\u001b[39;00m\n\u001b[0;32m      6\u001b[0m     \u001b[38;5;28;01mreturn\u001b[39;00m \u001b[38;5;28msum\u001b[39m(price \u001b[38;5;28;01mfor\u001b[39;00m product, price \u001b[38;5;129;01min\u001b[39;00m customer_orders\u001b[38;5;241m.\u001b[39mitems())\n\u001b[1;32m----> 8\u001b[0m print_total_price_customer_order(customer_orders)\n",
      "Cell \u001b[1;32mIn[20], line 6\u001b[0m, in \u001b[0;36mprint_total_price_customer_order\u001b[1;34m(customer_orders)\u001b[0m\n\u001b[0;32m      4\u001b[0m \u001b[38;5;28;01mdef\u001b[39;00m \u001b[38;5;21mprint_total_price_customer_order\u001b[39m(customer_orders):\n\u001b[0;32m      5\u001b[0m \u001b[38;5;250m    \u001b[39m\u001b[38;5;124;03m\"\"\"Calculates total price from a dictionary of {product: price}\"\"\"\u001b[39;00m\n\u001b[1;32m----> 6\u001b[0m     \u001b[38;5;28;01mreturn\u001b[39;00m \u001b[38;5;28msum\u001b[39m(price \u001b[38;5;28;01mfor\u001b[39;00m product, price \u001b[38;5;129;01min\u001b[39;00m customer_orders\u001b[38;5;241m.\u001b[39mitems())\n",
      "\u001b[1;31mAttributeError\u001b[0m: 'set' object has no attribute 'items'"
     ]
    }
   ],
   "source": [
    "#Step 5:\n",
    "# Print the total price of the customer order.\n",
    "# needs work\n",
    "def print_total_price_customer_order(customer_orders):\n",
    "    \"\"\"Calculates total price from a dictionary of {product: price}\"\"\"\n",
    "    return sum(price for product, price in customer_orders.items())\n",
    "\n",
    "print_total_price_customer_order(customer_orders)"
   ]
  }
 ],
 "metadata": {
  "kernelspec": {
   "display_name": "Python [conda env:base] *",
   "language": "python",
   "name": "conda-base-py"
  },
  "language_info": {
   "codemirror_mode": {
    "name": "ipython",
    "version": 3
   },
   "file_extension": ".py",
   "mimetype": "text/x-python",
   "name": "python",
   "nbconvert_exporter": "python",
   "pygments_lexer": "ipython3",
   "version": "3.12.7"
  }
 },
 "nbformat": 4,
 "nbformat_minor": 5
}
